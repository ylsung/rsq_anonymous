{
 "cells": [
  {
   "cell_type": "code",
   "execution_count": 13,
   "id": "initial_id",
   "metadata": {
    "ExecuteTime": {
     "end_time": "2024-06-03T12:12:13.612778103Z",
     "start_time": "2024-06-03T12:12:13.606816702Z"
    }
   },
   "outputs": [],
   "source": [
    "import pandas as pd\n",
    "import ast\n",
    "import numpy as np\n",
    "import os"
   ]
  },
  {
   "cell_type": "code",
   "execution_count": 4,
   "id": "e36b32c9dd98af79",
   "metadata": {
    "ExecuteTime": {
     "end_time": "2024-06-03T12:12:13.613420388Z",
     "start_time": "2024-06-03T12:12:13.610384439Z"
    },
    "collapsed": false,
    "jupyter": {
     "outputs_hidden": false
    }
   },
   "outputs": [],
   "source": [
    "def recall_at_k(expected_files, actual_files, k):\n",
    "     return len(set(actual_files[:k]) & set(expected_files)) / len(expected_files)\n",
    "\n",
    "def precision_at_k(expected_files, actual_files, k):\n",
    "    return len(set(actual_files[:k]) & set(expected_files)) / k\n",
    "\n",
    "def f1(expected_files, actual_files, k):\n",
    "    TP_set = set(expected_files) & set(actual_files)\n",
    "    FN_set = set(expected_files) - set(actual_files)\n",
    "    FP_set = set(actual_files) - set(expected_files)\n",
    "    \n",
    "    TP = len(TP_set)\n",
    "    FN = len(FN_set)\n",
    "    FP = len(FP_set)\n",
    "    \n",
    "    # Compute precision, recall, and F1-score\n",
    "    P = TP / (TP + FP)\n",
    "    R = TP / (TP + FN)\n",
    "    F1 = 2 * P * R / (P + R)\n",
    "    return F1\n",
    "\n",
    "def get_expected_files_indexes(expected_files, actual_files) -> np.ndarray[int]:\n",
    "    relevant = np.isin(expected_files, actual_files).astype(int)\n",
    "    return np.where(relevant == 1)[0]"
   ]
  },
  {
   "cell_type": "code",
   "execution_count": 5,
   "id": "01dd938d-bba4-4b98-b743-dbbbb220e2de",
   "metadata": {},
   "outputs": [],
   "source": [
    "def calc_search_metrics(expected_files, actual_files):\n",
    "    if len(expected_files) == 1:\n",
    "        k = 1\n",
    "    else:\n",
    "        k = 2\n",
    "    if len(set(actual_files) & set(expected_files)) == 0:\n",
    "        return {\n",
    "            'R@k': 0,\n",
    "            'P@k': 0,\n",
    "            'f1': 0,\n",
    "        }\n",
    "        \n",
    "    metrics = {}\n",
    "    metrics['R@k'] = recall_at_k(expected_files, actual_files, k)\n",
    "    metrics['P@k'] = precision_at_k(expected_files, actual_files, k)\n",
    "    metrics['f1'] = f1(expected_files, actual_files, k)\n",
    "    return metrics"
   ]
  },
  {
   "cell_type": "code",
   "execution_count": 6,
   "id": "64c693eb-2426-4712-bb6e-78d22283eb80",
   "metadata": {},
   "outputs": [],
   "source": [
    "def calc_retrive_metrics(expected_files, actual_files, distances):\n",
    "    expected_files_indexes = get_expected_files_indexes(expected_files, actual_files)\n",
    "    if len(expected_files_indexes) == 0:\n",
    "        return {\n",
    "            \"first_expected_pos\": None,\n",
    "            \"last_expected_pos\": None,\n",
    "            \"first_expected_distance\": None,\n",
    "            \"last_expected_distance\": None\n",
    "        }\n",
    "    metrics = {\n",
    "        \"first_expected_pos\": expected_files_indexes[0] / len(actual_files),\n",
    "        \"last_expected_pos\": expected_files_indexes[-1] / len(actual_files),\n",
    "        \"first_expected_index\": expected_files_indexes[0],\n",
    "        \"last_expected_index\": expected_files_indexes[-1],\n",
    "        \"first_expected_distance\": distances[expected_files_indexes[0]],\n",
    "        \"last_expected_distance\": distances[expected_files_indexes[-1]],\n",
    "    }\n",
    "    return metrics"
   ]
  },
  {
   "cell_type": "code",
   "execution_count": 7,
   "id": "8053794c-2e17-4d8d-aa4d-2238ecc0f6a4",
   "metadata": {},
   "outputs": [],
   "source": [
    "def get_chat_metrics(results_path) -> pd.DataFrame:\n",
    "    df = pd.read_csv(results_path)\n",
    "    df['changed_files'] = df['changed_files'].map(lambda lst: ast.literal_eval(lst))\n",
    "    df['final_files'] = df['final_files'].map(lambda lst: ast.literal_eval(lst))\n",
    "    df['all_generated_files'] = df['all_generated_files'].map(lambda lst: ast.literal_eval(lst))\n",
    "\n",
    "    metrics = []\n",
    "    for i, row in df.iterrows():\n",
    "        expected_files = row['changed_files']\n",
    "        actual_files = row['final_files']\n",
    "        m = calc_search_metrics(expected_files, actual_files)\n",
    "        m['time_s'] = row['time_ms'] / 1000\n",
    "        m['batches_count'] = row['batches_count']\n",
    "        m['empty_output'] = 1 if len(row['final_files']) == 0 else 0\n",
    "        m['irrelevant_output'] = 1 if len(set(row['changed_files']) & set(row['final_files'])) == 0 else 0\n",
    "        m['wrong_output'] = 1 if len(set(row['all_generated_files']) - set(row['final_files'])) > 0 else 0\n",
    "        metrics.append(m)\n",
    "\n",
    "    return pd.DataFrame(metrics)"
   ]
  },
  {
   "cell_type": "code",
   "execution_count": 8,
   "id": "d4058b4a-c1ab-4f5c-b1f8-f444b67e3599",
   "metadata": {},
   "outputs": [],
   "source": [
    "import re\n",
    "\n",
    "def add_commas_after_second_tick(s):\n",
    "    backtick_positions = [pos for pos, char in enumerate(s) if char == \"'\"]\n",
    "    for i in range(len(backtick_positions) // 2):\n",
    "        s = s[:backtick_positions[i * 2 + 1] + 1 + i] + ',' + s[backtick_positions[i * 2 + 1] + 1 + i:]\n",
    "    return s\n",
    "\n",
    "def get_emb_metrics(results_path) -> pd.DataFrame:\n",
    "    df = pd.read_csv(results_path)\n",
    "    df['final_files'] = df['final_files'].map(lambda lst: ast.literal_eval(lst))\n",
    "    df['rank_scores'] = df['rank_scores'].map(lambda lst: ast.literal_eval(lst))\n",
    "    df['changed_files'] = df['changed_files'].map(lambda lst: ast.literal_eval(lst))\n",
    "    metrics = []\n",
    "    for i, row in df.iterrows():\n",
    "        expected_files = row['changed_files']\n",
    "        actual_files = row['final_files']\n",
    "        m = {}\n",
    "        search_m = calc_search_metrics(expected_files, actual_files)\n",
    "        m.update(search_m)\n",
    "        retrive_m = calc_retrive_metrics(expected_files, actual_files, row['rank_scores'])\n",
    "        m.update(retrive_m)\n",
    "        m['time_s'] = row['time_ms'] / 1000\n",
    "        metrics.append(m)\n",
    "\n",
    "    return pd.DataFrame(metrics)"
   ]
  },
  {
   "cell_type": "code",
   "execution_count": 10,
   "id": "5e2426ed-fdcc-4e5e-90b2-14fe89954ae1",
   "metadata": {},
   "outputs": [],
   "source": [
    "metrics = {}"
   ]
  },
  {
   "cell_type": "code",
   "execution_count": 11,
   "id": "da3b8dae-f4ba-4c3f-8ccb-b97d8d4098bd",
   "metadata": {},
   "outputs": [],
   "source": [
    "results = '/home/tigina/lca-baselines/bug_localization/output'"
   ]
  },
  {
   "cell_type": "markdown",
   "id": "3416a4c9-a42a-4837-94d8-eea6a3d495ec",
   "metadata": {},
   "source": [
    "## Chat-based baselines"
   ]
  },
  {
   "cell_type": "code",
   "execution_count": 15,
   "id": "801baf7f-ecf2-4f77-b575-ae4c4f2a28e5",
   "metadata": {},
   "outputs": [
    {
     "ename": "KeyError",
     "evalue": "'final_files'",
     "output_type": "error",
     "traceback": [
      "\u001b[0;31m---------------------------------------------------------------------------\u001b[0m",
      "\u001b[0;31mKeyError\u001b[0m                                  Traceback (most recent call last)",
      "File \u001b[0;32m~/lca-baselines/bug_localization/venv/lib/python3.10/site-packages/pandas/core/indexes/base.py:3805\u001b[0m, in \u001b[0;36mIndex.get_loc\u001b[0;34m(self, key)\u001b[0m\n\u001b[1;32m   3804\u001b[0m \u001b[38;5;28;01mtry\u001b[39;00m:\n\u001b[0;32m-> 3805\u001b[0m     \u001b[38;5;28;01mreturn\u001b[39;00m \u001b[38;5;28;43mself\u001b[39;49m\u001b[38;5;241;43m.\u001b[39;49m\u001b[43m_engine\u001b[49m\u001b[38;5;241;43m.\u001b[39;49m\u001b[43mget_loc\u001b[49m\u001b[43m(\u001b[49m\u001b[43mcasted_key\u001b[49m\u001b[43m)\u001b[49m\n\u001b[1;32m   3806\u001b[0m \u001b[38;5;28;01mexcept\u001b[39;00m \u001b[38;5;167;01mKeyError\u001b[39;00m \u001b[38;5;28;01mas\u001b[39;00m err:\n",
      "File \u001b[0;32mindex.pyx:167\u001b[0m, in \u001b[0;36mpandas._libs.index.IndexEngine.get_loc\u001b[0;34m()\u001b[0m\n",
      "File \u001b[0;32mindex.pyx:196\u001b[0m, in \u001b[0;36mpandas._libs.index.IndexEngine.get_loc\u001b[0;34m()\u001b[0m\n",
      "File \u001b[0;32mpandas/_libs/hashtable_class_helper.pxi:7081\u001b[0m, in \u001b[0;36mpandas._libs.hashtable.PyObjectHashTable.get_item\u001b[0;34m()\u001b[0m\n",
      "File \u001b[0;32mpandas/_libs/hashtable_class_helper.pxi:7089\u001b[0m, in \u001b[0;36mpandas._libs.hashtable.PyObjectHashTable.get_item\u001b[0;34m()\u001b[0m\n",
      "\u001b[0;31mKeyError\u001b[0m: 'final_files'",
      "\nThe above exception was the direct cause of the following exception:\n",
      "\u001b[0;31mKeyError\u001b[0m                                  Traceback (most recent call last)",
      "Cell \u001b[0;32mIn[15], line 1\u001b[0m\n\u001b[0;32m----> 1\u001b[0m metrics[\u001b[38;5;124m'\u001b[39m\u001b[38;5;124mopenai_chat_gpt-3.5-turbo-1106\u001b[39m\u001b[38;5;124m'\u001b[39m] \u001b[38;5;241m=\u001b[39m \u001b[43mget_emb_metrics\u001b[49m\u001b[43m(\u001b[49m\u001b[43mos\u001b[49m\u001b[38;5;241;43m.\u001b[39;49m\u001b[43mpath\u001b[49m\u001b[38;5;241;43m.\u001b[39;49m\u001b[43mjoin\u001b[49m\u001b[43m(\u001b[49m\u001b[43mresults\u001b[49m\u001b[43m,\u001b[49m\u001b[43m \u001b[49m\u001b[38;5;124;43m'\u001b[39;49m\u001b[38;5;124;43mopenai_chat_gpt-3.5-turbo-1106/results.csv\u001b[39;49m\u001b[38;5;124;43m'\u001b[39;49m\u001b[43m)\u001b[49m\u001b[43m)\u001b[49m\n\u001b[1;32m      2\u001b[0m df_emb_metrics[\u001b[38;5;124m'\u001b[39m\u001b[38;5;124mopenai_chat_gpt-3.5-turbo-1106\u001b[39m\u001b[38;5;124m'\u001b[39m]\u001b[38;5;241m.\u001b[39mdropna()\u001b[38;5;241m.\u001b[39mmean()\n",
      "Cell \u001b[0;32mIn[8], line 11\u001b[0m, in \u001b[0;36mget_emb_metrics\u001b[0;34m(results_path)\u001b[0m\n\u001b[1;32m      9\u001b[0m \u001b[38;5;28;01mdef\u001b[39;00m \u001b[38;5;21mget_emb_metrics\u001b[39m(results_path) \u001b[38;5;241m-\u001b[39m\u001b[38;5;241m>\u001b[39m pd\u001b[38;5;241m.\u001b[39mDataFrame:\n\u001b[1;32m     10\u001b[0m     df \u001b[38;5;241m=\u001b[39m pd\u001b[38;5;241m.\u001b[39mread_csv(results_path)\n\u001b[0;32m---> 11\u001b[0m     df[\u001b[38;5;124m'\u001b[39m\u001b[38;5;124mfinal_files\u001b[39m\u001b[38;5;124m'\u001b[39m] \u001b[38;5;241m=\u001b[39m \u001b[43mdf\u001b[49m\u001b[43m[\u001b[49m\u001b[38;5;124;43m'\u001b[39;49m\u001b[38;5;124;43mfinal_files\u001b[39;49m\u001b[38;5;124;43m'\u001b[39;49m\u001b[43m]\u001b[49m\u001b[38;5;241m.\u001b[39mmap(\u001b[38;5;28;01mlambda\u001b[39;00m lst: ast\u001b[38;5;241m.\u001b[39mliteral_eval(lst))\n\u001b[1;32m     12\u001b[0m     df[\u001b[38;5;124m'\u001b[39m\u001b[38;5;124mrank_scores\u001b[39m\u001b[38;5;124m'\u001b[39m] \u001b[38;5;241m=\u001b[39m df[\u001b[38;5;124m'\u001b[39m\u001b[38;5;124mrank_scores\u001b[39m\u001b[38;5;124m'\u001b[39m]\u001b[38;5;241m.\u001b[39mmap(\u001b[38;5;28;01mlambda\u001b[39;00m lst: ast\u001b[38;5;241m.\u001b[39mliteral_eval(lst))\n\u001b[1;32m     13\u001b[0m     df[\u001b[38;5;124m'\u001b[39m\u001b[38;5;124mchanged_files\u001b[39m\u001b[38;5;124m'\u001b[39m] \u001b[38;5;241m=\u001b[39m df[\u001b[38;5;124m'\u001b[39m\u001b[38;5;124mchanged_files\u001b[39m\u001b[38;5;124m'\u001b[39m]\u001b[38;5;241m.\u001b[39mmap(\u001b[38;5;28;01mlambda\u001b[39;00m lst: ast\u001b[38;5;241m.\u001b[39mliteral_eval(lst))\n",
      "File \u001b[0;32m~/lca-baselines/bug_localization/venv/lib/python3.10/site-packages/pandas/core/frame.py:4102\u001b[0m, in \u001b[0;36mDataFrame.__getitem__\u001b[0;34m(self, key)\u001b[0m\n\u001b[1;32m   4100\u001b[0m \u001b[38;5;28;01mif\u001b[39;00m \u001b[38;5;28mself\u001b[39m\u001b[38;5;241m.\u001b[39mcolumns\u001b[38;5;241m.\u001b[39mnlevels \u001b[38;5;241m>\u001b[39m \u001b[38;5;241m1\u001b[39m:\n\u001b[1;32m   4101\u001b[0m     \u001b[38;5;28;01mreturn\u001b[39;00m \u001b[38;5;28mself\u001b[39m\u001b[38;5;241m.\u001b[39m_getitem_multilevel(key)\n\u001b[0;32m-> 4102\u001b[0m indexer \u001b[38;5;241m=\u001b[39m \u001b[38;5;28;43mself\u001b[39;49m\u001b[38;5;241;43m.\u001b[39;49m\u001b[43mcolumns\u001b[49m\u001b[38;5;241;43m.\u001b[39;49m\u001b[43mget_loc\u001b[49m\u001b[43m(\u001b[49m\u001b[43mkey\u001b[49m\u001b[43m)\u001b[49m\n\u001b[1;32m   4103\u001b[0m \u001b[38;5;28;01mif\u001b[39;00m is_integer(indexer):\n\u001b[1;32m   4104\u001b[0m     indexer \u001b[38;5;241m=\u001b[39m [indexer]\n",
      "File \u001b[0;32m~/lca-baselines/bug_localization/venv/lib/python3.10/site-packages/pandas/core/indexes/base.py:3812\u001b[0m, in \u001b[0;36mIndex.get_loc\u001b[0;34m(self, key)\u001b[0m\n\u001b[1;32m   3807\u001b[0m     \u001b[38;5;28;01mif\u001b[39;00m \u001b[38;5;28misinstance\u001b[39m(casted_key, \u001b[38;5;28mslice\u001b[39m) \u001b[38;5;129;01mor\u001b[39;00m (\n\u001b[1;32m   3808\u001b[0m         \u001b[38;5;28misinstance\u001b[39m(casted_key, abc\u001b[38;5;241m.\u001b[39mIterable)\n\u001b[1;32m   3809\u001b[0m         \u001b[38;5;129;01mand\u001b[39;00m \u001b[38;5;28many\u001b[39m(\u001b[38;5;28misinstance\u001b[39m(x, \u001b[38;5;28mslice\u001b[39m) \u001b[38;5;28;01mfor\u001b[39;00m x \u001b[38;5;129;01min\u001b[39;00m casted_key)\n\u001b[1;32m   3810\u001b[0m     ):\n\u001b[1;32m   3811\u001b[0m         \u001b[38;5;28;01mraise\u001b[39;00m InvalidIndexError(key)\n\u001b[0;32m-> 3812\u001b[0m     \u001b[38;5;28;01mraise\u001b[39;00m \u001b[38;5;167;01mKeyError\u001b[39;00m(key) \u001b[38;5;28;01mfrom\u001b[39;00m \u001b[38;5;21;01merr\u001b[39;00m\n\u001b[1;32m   3813\u001b[0m \u001b[38;5;28;01mexcept\u001b[39;00m \u001b[38;5;167;01mTypeError\u001b[39;00m:\n\u001b[1;32m   3814\u001b[0m     \u001b[38;5;66;03m# If we have a listlike key, _check_indexing_error will raise\u001b[39;00m\n\u001b[1;32m   3815\u001b[0m     \u001b[38;5;66;03m#  InvalidIndexError. Otherwise we fall through and re-raise\u001b[39;00m\n\u001b[1;32m   3816\u001b[0m     \u001b[38;5;66;03m#  the TypeError.\u001b[39;00m\n\u001b[1;32m   3817\u001b[0m     \u001b[38;5;28mself\u001b[39m\u001b[38;5;241m.\u001b[39m_check_indexing_error(key)\n",
      "\u001b[0;31mKeyError\u001b[0m: 'final_files'"
     ]
    }
   ],
   "source": [
    "metrics['openai_chat_gpt-3.5-turbo-1106'] = get_emb_metrics(os.path.join(results, 'openai_chat_gpt-3.5-turbo-1106/results.csv'))\n",
    "df_emb_metrics['openai_chat_gpt-3.5-turbo-1106'].dropna().mean()"
   ]
  },
  {
   "cell_type": "code",
   "execution_count": null,
   "id": "b73d398c-d6c2-44b1-9718-e63ea5f23e1d",
   "metadata": {},
   "outputs": [],
   "source": []
  }
 ],
 "metadata": {
  "kernelspec": {
   "display_name": "Python 3 (ipykernel)",
   "language": "python",
   "name": "python3"
  },
  "language_info": {
   "codemirror_mode": {
    "name": "ipython",
    "version": 3
   },
   "file_extension": ".py",
   "mimetype": "text/x-python",
   "name": "python",
   "nbconvert_exporter": "python",
   "pygments_lexer": "ipython3",
   "version": "3.10.12"
  }
 },
 "nbformat": 4,
 "nbformat_minor": 5
}
